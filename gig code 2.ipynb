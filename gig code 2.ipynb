{
 "cells": [
  {
   "cell_type": "code",
   "execution_count": 1,
   "id": "05d72e26-a3ba-478e-a151-ee5d76bcba5d",
   "metadata": {},
   "outputs": [
    {
     "name": "stdout",
     "output_type": "stream",
     "text": [
      "\n",
      "Unique subjects in Updated Fake News DataFrame:\n",
      "subject\n",
      "worldnews    16640\n",
      "politics      6841\n",
      "Name: count, dtype: int64\n",
      "\n",
      "Unique subjects in Updated Real News DataFrame:\n",
      "subject\n",
      "politics     11272\n",
      "worldnews    10145\n",
      "Name: count, dtype: int64\n"
     ]
    }
   ],
   "source": [
    "import pandas as pd\n",
    "import os\n",
    "\n",
    "# Define the folder path containing the CSV files\n",
    "folder_path = '/Users/aamershah/Desktop/gig/News_dataset'\n",
    "\n",
    "# Define the new file names\n",
    "new_fake_file = 'Updated_Fake.csv'\n",
    "new_real_file = 'Updated_Real.csv'\n",
    "\n",
    "# Define the full paths for the new files\n",
    "new_fake_file_path = os.path.join(folder_path, new_fake_file)\n",
    "new_real_file_path = os.path.join(folder_path, new_real_file)\n",
    "\n",
    "# Load the updated fake news data\n",
    "updated_fake_df = pd.read_csv(new_fake_file_path)\n",
    "\n",
    "# Load the updated real news data\n",
    "updated_real_df = pd.read_csv(new_real_file_path)\n",
    "\n",
    "# Count the unique subjects in each updated DataFrame\n",
    "updated_fake_subject_counts = updated_fake_df['subject'].value_counts()\n",
    "updated_real_subject_counts = updated_real_df['subject'].value_counts()\n",
    "\n",
    "# Display the counts of unique subjects\n",
    "print(\"\\nUnique subjects in Updated Fake News DataFrame:\")\n",
    "print(updated_fake_subject_counts)\n",
    "\n",
    "print(\"\\nUnique subjects in Updated Real News DataFrame:\")\n",
    "print(updated_real_subject_counts)\n"
   ]
  },
  {
   "cell_type": "code",
   "execution_count": null,
   "id": "4bf20479-c45e-488b-b949-53fe8bfab925",
   "metadata": {},
   "outputs": [],
   "source": []
  }
 ],
 "metadata": {
  "kernelspec": {
   "display_name": "Python 3 (ipykernel)",
   "language": "python",
   "name": "python3"
  },
  "language_info": {
   "codemirror_mode": {
    "name": "ipython",
    "version": 3
   },
   "file_extension": ".py",
   "mimetype": "text/x-python",
   "name": "python",
   "nbconvert_exporter": "python",
   "pygments_lexer": "ipython3",
   "version": "3.11.7"
  }
 },
 "nbformat": 4,
 "nbformat_minor": 5
}
