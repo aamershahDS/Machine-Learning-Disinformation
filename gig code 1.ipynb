{
 "cells": [
  {
   "cell_type": "code",
   "execution_count": 8,
   "id": "600edc7c-92ed-42ef-beb9-fa751eb80cd4",
   "metadata": {},
   "outputs": [
    {
     "name": "stdout",
     "output_type": "stream",
     "text": [
      "Fake News DataFrame:\n",
      "                                                   title  \\\n",
      "0       Donald Trump Sends Out Embarrassing New Year’...   \n",
      "1       Drunk Bragging Trump Staffer Started Russian ...   \n",
      "2       Sheriff David Clarke Becomes An Internet Joke...   \n",
      "3       Trump Is So Obsessed He Even Has Obama’s Name...   \n",
      "4       Pope Francis Just Called Out Donald Trump Dur...   \n",
      "...                                                  ...   \n",
      "23476  McPain: John McCain Furious That Iran Treated ...   \n",
      "23477  JUSTICE? Yahoo Settles E-mail Privacy Class-ac...   \n",
      "23478  Sunnistan: US and Allied ‘Safe Zone’ Plan to T...   \n",
      "23479  How to Blow $700 Million: Al Jazeera America F...   \n",
      "23480  10 U.S. Navy Sailors Held by Iranian Military ...   \n",
      "\n",
      "                                                    text      subject  \\\n",
      "0      Donald Trump just couldn t wish all Americans ...         News   \n",
      "1      House Intelligence Committee Chairman Devin Nu...         News   \n",
      "2      On Friday, it was revealed that former Milwauk...         News   \n",
      "3      On Christmas day, Donald Trump announced that ...         News   \n",
      "4      Pope Francis used his annual Christmas Day mes...         News   \n",
      "...                                                  ...          ...   \n",
      "23476  21st Century Wire says As 21WIRE reported earl...  Middle-east   \n",
      "23477  21st Century Wire says It s a familiar theme. ...  Middle-east   \n",
      "23478  Patrick Henningsen  21st Century WireRemember ...  Middle-east   \n",
      "23479  21st Century Wire says Al Jazeera America will...  Middle-east   \n",
      "23480  21st Century Wire says As 21WIRE predicted in ...  Middle-east   \n",
      "\n",
      "                    date label  \n",
      "0      December 31, 2017  fake  \n",
      "1      December 31, 2017  fake  \n",
      "2      December 30, 2017  fake  \n",
      "3      December 29, 2017  fake  \n",
      "4      December 25, 2017  fake  \n",
      "...                  ...   ...  \n",
      "23476   January 16, 2016  fake  \n",
      "23477   January 16, 2016  fake  \n",
      "23478   January 15, 2016  fake  \n",
      "23479   January 14, 2016  fake  \n",
      "23480   January 12, 2016  fake  \n",
      "\n",
      "[23481 rows x 5 columns]\n",
      "\n",
      "Real News DataFrame:\n",
      "                                                   title  \\\n",
      "0      As U.S. budget fight looms, Republicans flip t...   \n",
      "1      U.S. military to accept transgender recruits o...   \n",
      "2      Senior U.S. Republican senator: 'Let Mr. Muell...   \n",
      "3      FBI Russia probe helped by Australian diplomat...   \n",
      "4      Trump wants Postal Service to charge 'much mor...   \n",
      "...                                                  ...   \n",
      "21412  'Fully committed' NATO backs new U.S. approach...   \n",
      "21413  LexisNexis withdrew two products from Chinese ...   \n",
      "21414  Minsk cultural hub becomes haven from authorities   \n",
      "21415  Vatican upbeat on possibility of Pope Francis ...   \n",
      "21416  Indonesia to buy $1.14 billion worth of Russia...   \n",
      "\n",
      "                                                    text       subject  \\\n",
      "0      WASHINGTON (Reuters) - The head of a conservat...  politicsNews   \n",
      "1      WASHINGTON (Reuters) - Transgender people will...  politicsNews   \n",
      "2      WASHINGTON (Reuters) - The special counsel inv...  politicsNews   \n",
      "3      WASHINGTON (Reuters) - Trump campaign adviser ...  politicsNews   \n",
      "4      SEATTLE/WASHINGTON (Reuters) - President Donal...  politicsNews   \n",
      "...                                                  ...           ...   \n",
      "21412  BRUSSELS (Reuters) - NATO allies on Tuesday we...     worldnews   \n",
      "21413  LONDON (Reuters) - LexisNexis, a provider of l...     worldnews   \n",
      "21414  MINSK (Reuters) - In the shadow of disused Sov...     worldnews   \n",
      "21415  MOSCOW (Reuters) - Vatican Secretary of State ...     worldnews   \n",
      "21416  JAKARTA (Reuters) - Indonesia will buy 11 Sukh...     worldnews   \n",
      "\n",
      "                     date label  \n",
      "0      December 31, 2017   real  \n",
      "1      December 29, 2017   real  \n",
      "2      December 31, 2017   real  \n",
      "3      December 30, 2017   real  \n",
      "4      December 29, 2017   real  \n",
      "...                   ...   ...  \n",
      "21412    August 22, 2017   real  \n",
      "21413    August 22, 2017   real  \n",
      "21414    August 22, 2017   real  \n",
      "21415    August 22, 2017   real  \n",
      "21416    August 22, 2017   real  \n",
      "\n",
      "[21417 rows x 5 columns]\n"
     ]
    }
   ],
   "source": [
    "import pandas as pd\n",
    "import os\n",
    "\n",
    "# Define the folder path containing the CSV files\n",
    "folder_path = '/Users/aamershah/Desktop/gig/News_dataset'\n",
    "\n",
    "# Define the file names\n",
    "fake_file = 'Fake.csv'\n",
    "real_file = 'Real.csv'\n",
    "\n",
    "# Construct the full paths\n",
    "fake_file_path = os.path.join(folder_path, fake_file)\n",
    "real_file_path = os.path.join(folder_path, real_file)\n",
    "\n",
    "# Load the fake news data\n",
    "fake_df = pd.read_csv(fake_file_path)\n",
    "fake_df['label'] = 'fake'  # Add a column to label the data as fake\n",
    "\n",
    "# Load the real news data\n",
    "real_df = pd.read_csv(real_file_path)\n",
    "real_df['label'] = 'real'  # Add a column to label the data as real\n",
    "\n",
    "# Display the first few rows of each DataFrame to confirm they loaded correctly\n",
    "print(\"Fake News DataFrame:\")\n",
    "print(fake_df)\n",
    "\n",
    "print(\"\\nReal News DataFrame:\")\n",
    "print(real_df)\n"
   ]
  },
  {
   "cell_type": "code",
   "execution_count": 9,
   "id": "98ec2807-15b0-4f14-9dc4-5a1c45563837",
   "metadata": {},
   "outputs": [
    {
     "name": "stdout",
     "output_type": "stream",
     "text": [
      "\n",
      "Fake News DataFrame: 23481 rows, 5 columns\n",
      "Column names: ['title', 'text', 'subject', 'date', 'label']\n",
      "\n",
      "Real News DataFrame: 21417 rows, 5 columns\n",
      "Column names: ['title', 'text', 'subject', 'date', 'label']\n"
     ]
    }
   ],
   "source": [
    "# Get the shape (number of rows and columns) of each DataFrame\n",
    "fake_shape = fake_df.shape\n",
    "real_shape = real_df.shape\n",
    "\n",
    "# Get the column names of each DataFrame\n",
    "fake_columns = fake_df.columns.tolist()\n",
    "real_columns = real_df.columns.tolist()\n",
    "\n",
    "# Display the number of rows and columns for each DataFrame\n",
    "print(f\"\\nFake News DataFrame: {fake_shape[0]} rows, {fake_shape[1]} columns\")\n",
    "print(f\"Column names: {fake_columns}\")\n",
    "\n",
    "print(f\"\\nReal News DataFrame: {real_shape[0]} rows, {real_shape[1]} columns\")\n",
    "print(f\"Column names: {real_columns}\")"
   ]
  },
  {
   "cell_type": "code",
   "execution_count": 14,
   "id": "cfd9b68a-d1f9-44e7-a7ce-11d9d812aa63",
   "metadata": {},
   "outputs": [
    {
     "name": "stdout",
     "output_type": "stream",
     "text": [
      "\n",
      "Unique subjects in Fake News DataFrame:\n",
      "subject\n",
      "worldnews    16640\n",
      "politics      6841\n",
      "Name: count, dtype: int64\n",
      "\n",
      "Unique subjects in Real News DataFrame:\n",
      "subject\n",
      "politics     11272\n",
      "worldnews    10145\n",
      "Name: count, dtype: int64\n"
     ]
    }
   ],
   "source": [
    "# Count the unique subjects in each DataFrame\n",
    "fake_subject_counts = fake_df['subject'].value_counts()\n",
    "real_subject_counts = real_df['subject'].value_counts()\n",
    "\n",
    "# Display the counts of unique subjects\n",
    "print(\"\\nUnique subjects in Fake News DataFrame:\")\n",
    "print(fake_subject_counts)\n",
    "\n",
    "print(\"\\nUnique subjects in Real News DataFrame:\")\n",
    "print(real_subject_counts)"
   ]
  },
  {
   "cell_type": "code",
   "execution_count": 13,
   "id": "b83bc95f-2d37-4b53-b09b-7f1db84b00ba",
   "metadata": {},
   "outputs": [],
   "source": [
    "# List of subjects to rename\n",
    "subjects_to_rename = ['politicsNews']\n",
    "\n",
    "# Replace the specified subjects with 'worldnews' in both DataFrames\n",
    "fake_df['subject'] = fake_df['subject'].replace(subjects_to_rename, 'politics')\n",
    "real_df['subject'] = real_df['subject'].replace(subjects_to_rename, 'politics')\n"
   ]
  },
  {
   "cell_type": "code",
   "execution_count": 15,
   "id": "e81217b6-31f7-4718-8d12-c0feae6fef3a",
   "metadata": {},
   "outputs": [
    {
     "name": "stdout",
     "output_type": "stream",
     "text": [
      "Updated fake news dataset saved to /Users/aamershah/Desktop/gig/News_dataset/Updated_Fake.csv\n",
      "Updated real news dataset saved to /Users/aamershah/Desktop/gig/News_dataset/Updated_Real.csv\n"
     ]
    }
   ],
   "source": [
    "# Define the new file names\n",
    "new_fake_file = 'Updated_Fake.csv'\n",
    "new_real_file = 'Updated_Real.csv'\n",
    "\n",
    "# Define the full paths for the new files\n",
    "new_fake_file_path = os.path.join(folder_path, new_fake_file)\n",
    "new_real_file_path = os.path.join(folder_path, new_real_file)\n",
    "\n",
    "# Save the updated DataFrames to new CSV files\n",
    "fake_df.to_csv(new_fake_file_path, index=False)\n",
    "real_df.to_csv(new_real_file_path, index=False)\n",
    "\n",
    "print(f\"Updated fake news dataset saved to {new_fake_file_path}\")\n",
    "print(f\"Updated real news dataset saved to {new_real_file_path}\")\n"
   ]
  },
  {
   "cell_type": "code",
   "execution_count": null,
   "id": "9d2614f5-9d62-44da-88d4-c8b2adfc2ee1",
   "metadata": {},
   "outputs": [],
   "source": []
  }
 ],
 "metadata": {
  "kernelspec": {
   "display_name": "Python 3 (ipykernel)",
   "language": "python",
   "name": "python3"
  },
  "language_info": {
   "codemirror_mode": {
    "name": "ipython",
    "version": 3
   },
   "file_extension": ".py",
   "mimetype": "text/x-python",
   "name": "python",
   "nbconvert_exporter": "python",
   "pygments_lexer": "ipython3",
   "version": "3.11.7"
  }
 },
 "nbformat": 4,
 "nbformat_minor": 5
}
